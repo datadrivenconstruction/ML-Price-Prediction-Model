{
 "cells": [
  {
   "cell_type": "code",
   "execution_count": null,
   "id": "9eca080d",
   "metadata": {},
   "outputs": [],
   "source": [
    "###\n",
    "# App Name:  Creating prediction models for typed projects in IFC, RVT formats (after conversion to JSON-CSV)\n",
    "# App URI: https://DataDrivenConstruction.io/\n",
    "# Description: After converting IFC, RVT files into JSON-CSV formats, we can create prediction models.\n",
    "# In this example, we accepted that all the project data that are saved in one CSV file we can equate \n",
    "# the price of the project. So having for example 50 typical projects with known price we can predict price \n",
    "# of 51 projects - 4_1house_R.csv: with new set of parameters by parametric data in CSV file.\n",
    "# DataDrivenConstruction\n",
    "# This program is free software: you can redistribute it and/or modify\n",
    "# it under the terms of the GNU General Public License as published by\n",
    "# the Free Software Foundation, either version 3 of the License, or\n",
    "# (at your option) any later version.\n",
    "###"
   ]
  },
  {
   "cell_type": "code",
   "execution_count": 108,
   "id": "worse-indonesian",
   "metadata": {},
   "outputs": [],
   "source": [
    "# loading nessary libs\n",
    "import pandas as pd\n",
    "import glob, os\n",
    "import numpy as np\n",
    "from sklearn.model_selection import train_test_split\n",
    "from sklearn.metrics import mean_squared_error\n",
    "import seaborn as sns \n",
    "import matplotlib.pyplot as plt "
   ]
  },
  {
   "cell_type": "code",
   "execution_count": 109,
   "id": "proud-cooper",
   "metadata": {},
   "outputs": [
    {
     "name": "stdout",
     "output_type": "stream",
     "text": [
      "Processing file: 0_1house_R.csv\n",
      "OK. Current df size: 269\n",
      "\n",
      "Processing file: 10_1house_R.csv\n",
      "OK. Current df size: 538\n",
      "\n",
      "Processing file: 11_1house_R.csv\n",
      "OK. Current df size: 807\n",
      "\n",
      "Processing file: 12_1house_R.csv\n",
      "OK. Current df size: 1076\n",
      "\n",
      "Processing file: 13_1house_R.csv\n",
      "OK. Current df size: 1345\n",
      "\n",
      "Processing file: 14_1house_R.csv\n",
      "OK. Current df size: 1614\n",
      "\n",
      "Processing file: 15_1house_R.csv\n",
      "OK. Current df size: 1883\n",
      "\n",
      "Processing file: 16_1house_R.csv\n",
      "OK. Current df size: 2152\n",
      "\n",
      "Processing file: 17_1house_R.csv\n",
      "OK. Current df size: 2421\n",
      "\n",
      "Processing file: 18_1house_R.csv\n",
      "OK. Current df size: 2690\n",
      "\n",
      "Processing file: 19_1house_R.csv\n",
      "OK. Current df size: 2959\n",
      "\n",
      "Processing file: 1_1house_R.csv\n",
      "OK. Current df size: 3228\n",
      "\n",
      "Processing file: 20_1house_R.csv\n",
      "OK. Current df size: 3497\n",
      "\n",
      "Processing file: 21_1house_R.csv\n",
      "OK. Current df size: 3766\n",
      "\n",
      "Processing file: 22_1house_R.csv\n",
      "OK. Current df size: 4035\n",
      "\n",
      "Processing file: 23_1house_R.csv\n",
      "OK. Current df size: 4304\n",
      "\n",
      "Processing file: 24_1house_R.csv\n",
      "OK. Current df size: 4573\n",
      "\n",
      "Processing file: 25_1house_R.csv\n",
      "OK. Current df size: 4842\n",
      "\n",
      "Processing file: 26_1house_R.csv\n",
      "OK. Current df size: 5111\n",
      "\n",
      "Processing file: 27_1house_R.csv\n",
      "OK. Current df size: 5380\n",
      "\n",
      "Processing file: 28_1house_R.csv\n",
      "OK. Current df size: 5649\n",
      "\n",
      "Processing file: 29_1house_R.csv\n",
      "OK. Current df size: 5918\n",
      "\n",
      "Processing file: 2_1house_R.csv\n",
      "OK. Current df size: 6187\n",
      "\n",
      "Processing file: 30_1house_R.csv\n",
      "OK. Current df size: 6456\n",
      "\n",
      "Processing file: 31_1house_R.csv\n",
      "OK. Current df size: 6725\n",
      "\n",
      "Processing file: 32_1house_R.csv\n",
      "OK. Current df size: 6994\n",
      "\n",
      "Processing file: 33_1house_R.csv\n",
      "OK. Current df size: 7263\n",
      "\n",
      "Processing file: 34_1house_R.csv\n",
      "OK. Current df size: 7532\n",
      "\n",
      "Processing file: 35_1house_R.csv\n",
      "OK. Current df size: 7801\n",
      "\n",
      "Processing file: 36_1house_R.csv\n",
      "OK. Current df size: 8070\n",
      "\n",
      "Processing file: 37_1house_R.csv\n",
      "OK. Current df size: 8339\n",
      "\n",
      "Processing file: 38_1house_R.csv\n",
      "OK. Current df size: 8608\n",
      "\n",
      "Processing file: 39_1house_R.csv\n",
      "OK. Current df size: 8877\n",
      "\n",
      "Processing file: 3_1house_R.csv\n",
      "OK. Current df size: 9146\n",
      "\n",
      "Processing file: 40_1house_R.csv\n",
      "OK. Current df size: 9415\n",
      "\n",
      "Processing file: 41_1house_R.csv\n",
      "OK. Current df size: 9684\n",
      "\n",
      "Processing file: 42_1house_R.csv\n",
      "OK. Current df size: 9953\n",
      "\n",
      "Processing file: 43_1house_R.csv\n",
      "OK. Current df size: 10222\n",
      "\n",
      "Processing file: 44_1house_R.csv\n",
      "OK. Current df size: 10491\n",
      "\n",
      "Processing file: 45_1house_R.csv\n",
      "OK. Current df size: 10760\n",
      "\n",
      "Processing file: 46_1house_R.csv\n",
      "OK. Current df size: 11029\n",
      "\n",
      "Processing file: 47_1house_R.csv\n",
      "OK. Current df size: 11298\n",
      "\n",
      "Processing file: 48_1house_R.csv\n",
      "OK. Current df size: 11567\n",
      "\n",
      "Processing file: 49_1house_R.csv\n",
      "OK. Current df size: 11836\n",
      "\n",
      "Processing file: 4_1house_R.csv\n",
      "OK. Current df size: 12105\n",
      "\n",
      "Processing file: 50_1house_R.csv\n",
      "OK. Current df size: 12374\n",
      "\n",
      "Processing file: 5_1house_R.csv\n",
      "OK. Current df size: 12643\n",
      "\n",
      "Processing file: 6_1house_R.csv\n",
      "OK. Current df size: 12912\n",
      "\n",
      "Processing file: 7_1house_R.csv\n",
      "OK. Current df size: 13181\n",
      "\n",
      "Processing file: 8_1house_R.csv\n",
      "OK. Current df size: 13450\n",
      "\n",
      "Processing file: 9_1house_R.csv\n",
      "OK. Current df size: 13719\n",
      "\n"
     ]
    }
   ],
   "source": [
    "# loading data files and union its to dataset\n",
    "# os.chdir(\"/workdir\") # specify here your data catalog\n",
    "df = pd.DataFrame()\n",
    "for file in glob.glob(\"*house*.csv\"):\n",
    "    print('Processing file:', file)\n",
    "    # df = pd.concat([df, pd.read_csv(file)])\n",
    "    df = df.append(pd.read_csv(file), ignore_index=True, verify_integrity=True)\n",
    "    print('OK. Current df size:', len(df))\n",
    "    print()\n",
    "    "
   ]
  },
  {
   "cell_type": "code",
   "execution_count": 110,
   "id": "defensive-insider",
   "metadata": {},
   "outputs": [
    {
     "name": "stdout",
     "output_type": "stream",
     "text": [
      "<class 'pandas.core.frame.DataFrame'>\n",
      "RangeIndex: 13719 entries, 0 to 13718\n",
      "Data columns (total 40 columns):\n",
      " #   Column                      Non-Null Count  Dtype  \n",
      "---  ------                      --------------  -----  \n",
      " 0   feature_1                   13719 non-null  int64  \n",
      " 1   Category                    13719 non-null  int64  \n",
      " 2   Family                      13719 non-null  int64  \n",
      " 3   Type                        13719 non-null  int64  \n",
      " 4   Length                      13719 non-null  float64\n",
      " 5   Family and Type             13719 non-null  int64  \n",
      " 6   Type Id                     13719 non-null  int64  \n",
      " 7   Type Name                   13719 non-null  int64  \n",
      " 8   Family Name                 13719 non-null  int64  \n",
      " 9   Base Offset                 13719 non-null  float64\n",
      " 10  Top Offset                  13719 non-null  float64\n",
      " 11  Volume                      13719 non-null  int64  \n",
      " 12  Structural Material         13719 non-null  float64\n",
      " 13  Area                        13719 non-null  int64  \n",
      " 14  Elevation at Bottom         13719 non-null  float64\n",
      " 15  Elevation at Bottom Survey  13719 non-null  float64\n",
      " 16  Elevation at Top            13719 non-null  float64\n",
      " 17  Elevation at Top Survey     13719 non-null  float64\n",
      " 18  Width                       13719 non-null  float64\n",
      " 19  Foundation Thickness        13719 non-null  float64\n",
      " 20  Structural Usage            13719 non-null  float64\n",
      " 21  Elevation from Level        13719 non-null  float64\n",
      " 22  Offset                      13719 non-null  float64\n",
      " 23  Mark                        13719 non-null  float64\n",
      " 24  Thickness                   13719 non-null  float64\n",
      " 25  Unconnected Height          13719 non-null  float64\n",
      " 26  Base Offset From Level      13719 non-null  float64\n",
      " 27  Maximum Ridge Height        13719 non-null  float64\n",
      " 28  Absorptance                 13719 non-null  float64\n",
      " 29  Default Thickness           13719 non-null  float64\n",
      " 30  Coarse Scale Fill Color     13719 non-null  float64\n",
      " 31  Height Offset From Level    13719 non-null  float64\n",
      " 32  Perimeter                   13719 non-null  float64\n",
      " 33  Sill Height                 13719 non-null  float64\n",
      " 34  Head Height                 13719 non-null  float64\n",
      " 35  Wall Closure                13719 non-null  float64\n",
      " 36  Panel Width                 13719 non-null  float64\n",
      " 37  Location Line               13719 non-null  float64\n",
      " 38  Number                      13719 non-null  float64\n",
      " 39  price                       13719 non-null  float64\n",
      "dtypes: float64(30), int64(10)\n",
      "memory usage: 4.2 MB\n"
     ]
    }
   ],
   "source": [
    "# take a look at the data \n",
    "df.info()"
   ]
  },
  {
   "cell_type": "code",
   "execution_count": 111,
   "id": "representative-arena",
   "metadata": {},
   "outputs": [
    {
     "data": {
      "text/html": [
       "<div>\n",
       "<style scoped>\n",
       "    .dataframe tbody tr th:only-of-type {\n",
       "        vertical-align: middle;\n",
       "    }\n",
       "\n",
       "    .dataframe tbody tr th {\n",
       "        vertical-align: top;\n",
       "    }\n",
       "\n",
       "    .dataframe thead th {\n",
       "        text-align: right;\n",
       "    }\n",
       "</style>\n",
       "<table border=\"1\" class=\"dataframe\">\n",
       "  <thead>\n",
       "    <tr style=\"text-align: right;\">\n",
       "      <th></th>\n",
       "      <th>feature_1</th>\n",
       "      <th>Category</th>\n",
       "      <th>Family</th>\n",
       "      <th>Type</th>\n",
       "      <th>Length</th>\n",
       "      <th>Family and Type</th>\n",
       "      <th>Type Id</th>\n",
       "      <th>Type Name</th>\n",
       "      <th>Family Name</th>\n",
       "      <th>Base Offset</th>\n",
       "      <th>...</th>\n",
       "      <th>Coarse Scale Fill Color</th>\n",
       "      <th>Height Offset From Level</th>\n",
       "      <th>Perimeter</th>\n",
       "      <th>Sill Height</th>\n",
       "      <th>Head Height</th>\n",
       "      <th>Wall Closure</th>\n",
       "      <th>Panel Width</th>\n",
       "      <th>Location Line</th>\n",
       "      <th>Number</th>\n",
       "      <th>price</th>\n",
       "    </tr>\n",
       "  </thead>\n",
       "  <tbody>\n",
       "    <tr>\n",
       "      <th>11961</th>\n",
       "      <td>149</td>\n",
       "      <td>15</td>\n",
       "      <td>26</td>\n",
       "      <td>5</td>\n",
       "      <td>51708.255126</td>\n",
       "      <td>26</td>\n",
       "      <td>17</td>\n",
       "      <td>26</td>\n",
       "      <td>24</td>\n",
       "      <td>-731.147648</td>\n",
       "      <td>...</td>\n",
       "      <td>6.230297e+06</td>\n",
       "      <td>579.038153</td>\n",
       "      <td>65706.716383</td>\n",
       "      <td>865.472835</td>\n",
       "      <td>1888.849383</td>\n",
       "      <td>0.231891</td>\n",
       "      <td>1192.801907</td>\n",
       "      <td>1.742892</td>\n",
       "      <td>2.569462</td>\n",
       "      <td>174824.119557</td>\n",
       "    </tr>\n",
       "    <tr>\n",
       "      <th>11028</th>\n",
       "      <td>238</td>\n",
       "      <td>17</td>\n",
       "      <td>1</td>\n",
       "      <td>6</td>\n",
       "      <td>1652.027150</td>\n",
       "      <td>6</td>\n",
       "      <td>13</td>\n",
       "      <td>54</td>\n",
       "      <td>24</td>\n",
       "      <td>609.838820</td>\n",
       "      <td>...</td>\n",
       "      <td>1.385357e+07</td>\n",
       "      <td>1402.925104</td>\n",
       "      <td>80193.401618</td>\n",
       "      <td>623.609573</td>\n",
       "      <td>255.793952</td>\n",
       "      <td>1.325184</td>\n",
       "      <td>1120.134433</td>\n",
       "      <td>0.066059</td>\n",
       "      <td>3.229945</td>\n",
       "      <td>191853.246818</td>\n",
       "    </tr>\n",
       "    <tr>\n",
       "      <th>1586</th>\n",
       "      <td>86</td>\n",
       "      <td>17</td>\n",
       "      <td>43</td>\n",
       "      <td>10</td>\n",
       "      <td>5482.823587</td>\n",
       "      <td>26</td>\n",
       "      <td>5</td>\n",
       "      <td>6</td>\n",
       "      <td>12</td>\n",
       "      <td>417.652036</td>\n",
       "      <td>...</td>\n",
       "      <td>7.453849e+06</td>\n",
       "      <td>1927.879433</td>\n",
       "      <td>51289.142264</td>\n",
       "      <td>814.971168</td>\n",
       "      <td>1785.147485</td>\n",
       "      <td>3.928075</td>\n",
       "      <td>1167.997559</td>\n",
       "      <td>0.920997</td>\n",
       "      <td>2.146227</td>\n",
       "      <td>323447.967047</td>\n",
       "    </tr>\n",
       "    <tr>\n",
       "      <th>4556</th>\n",
       "      <td>124</td>\n",
       "      <td>16</td>\n",
       "      <td>29</td>\n",
       "      <td>5</td>\n",
       "      <td>38384.499556</td>\n",
       "      <td>45</td>\n",
       "      <td>5</td>\n",
       "      <td>26</td>\n",
       "      <td>17</td>\n",
       "      <td>3167.331491</td>\n",
       "      <td>...</td>\n",
       "      <td>6.365709e+06</td>\n",
       "      <td>123.432657</td>\n",
       "      <td>17351.227767</td>\n",
       "      <td>-378.632843</td>\n",
       "      <td>2924.835002</td>\n",
       "      <td>1.684620</td>\n",
       "      <td>1081.368093</td>\n",
       "      <td>0.730101</td>\n",
       "      <td>1.819569</td>\n",
       "      <td>354161.197718</td>\n",
       "    </tr>\n",
       "    <tr>\n",
       "      <th>884</th>\n",
       "      <td>79</td>\n",
       "      <td>2</td>\n",
       "      <td>5</td>\n",
       "      <td>6</td>\n",
       "      <td>12625.392720</td>\n",
       "      <td>6</td>\n",
       "      <td>15</td>\n",
       "      <td>6</td>\n",
       "      <td>3</td>\n",
       "      <td>1768.889937</td>\n",
       "      <td>...</td>\n",
       "      <td>4.022581e+06</td>\n",
       "      <td>776.070194</td>\n",
       "      <td>58477.766316</td>\n",
       "      <td>667.606803</td>\n",
       "      <td>379.724156</td>\n",
       "      <td>2.915907</td>\n",
       "      <td>1056.999081</td>\n",
       "      <td>1.764576</td>\n",
       "      <td>3.329595</td>\n",
       "      <td>345566.822437</td>\n",
       "    </tr>\n",
       "    <tr>\n",
       "      <th>11439</th>\n",
       "      <td>11</td>\n",
       "      <td>16</td>\n",
       "      <td>6</td>\n",
       "      <td>6</td>\n",
       "      <td>61702.323572</td>\n",
       "      <td>6</td>\n",
       "      <td>26</td>\n",
       "      <td>17</td>\n",
       "      <td>35</td>\n",
       "      <td>-923.319046</td>\n",
       "      <td>...</td>\n",
       "      <td>8.434875e+06</td>\n",
       "      <td>231.066083</td>\n",
       "      <td>13247.338069</td>\n",
       "      <td>-282.406227</td>\n",
       "      <td>134.069508</td>\n",
       "      <td>3.386809</td>\n",
       "      <td>821.214226</td>\n",
       "      <td>0.370473</td>\n",
       "      <td>3.486666</td>\n",
       "      <td>155766.403515</td>\n",
       "    </tr>\n",
       "  </tbody>\n",
       "</table>\n",
       "<p>6 rows × 40 columns</p>\n",
       "</div>"
      ],
      "text/plain": [
       "       feature_1  Category  Family  Type        Length  Family and Type  \\\n",
       "11961        149        15      26     5  51708.255126               26   \n",
       "11028        238        17       1     6   1652.027150                6   \n",
       "1586          86        17      43    10   5482.823587               26   \n",
       "4556         124        16      29     5  38384.499556               45   \n",
       "884           79         2       5     6  12625.392720                6   \n",
       "11439         11        16       6     6  61702.323572                6   \n",
       "\n",
       "       Type Id  Type Name  Family Name  Base Offset  ...  \\\n",
       "11961       17         26           24  -731.147648  ...   \n",
       "11028       13         54           24   609.838820  ...   \n",
       "1586         5          6           12   417.652036  ...   \n",
       "4556         5         26           17  3167.331491  ...   \n",
       "884         15          6            3  1768.889937  ...   \n",
       "11439       26         17           35  -923.319046  ...   \n",
       "\n",
       "       Coarse Scale Fill Color  Height Offset From Level     Perimeter  \\\n",
       "11961             6.230297e+06                579.038153  65706.716383   \n",
       "11028             1.385357e+07               1402.925104  80193.401618   \n",
       "1586              7.453849e+06               1927.879433  51289.142264   \n",
       "4556              6.365709e+06                123.432657  17351.227767   \n",
       "884               4.022581e+06                776.070194  58477.766316   \n",
       "11439             8.434875e+06                231.066083  13247.338069   \n",
       "\n",
       "       Sill Height  Head Height  Wall Closure  Panel Width  Location Line  \\\n",
       "11961   865.472835  1888.849383      0.231891  1192.801907       1.742892   \n",
       "11028   623.609573   255.793952      1.325184  1120.134433       0.066059   \n",
       "1586    814.971168  1785.147485      3.928075  1167.997559       0.920997   \n",
       "4556   -378.632843  2924.835002      1.684620  1081.368093       0.730101   \n",
       "884     667.606803   379.724156      2.915907  1056.999081       1.764576   \n",
       "11439  -282.406227   134.069508      3.386809   821.214226       0.370473   \n",
       "\n",
       "         Number          price  \n",
       "11961  2.569462  174824.119557  \n",
       "11028  3.229945  191853.246818  \n",
       "1586   2.146227  323447.967047  \n",
       "4556   1.819569  354161.197718  \n",
       "884    3.329595  345566.822437  \n",
       "11439  3.486666  155766.403515  \n",
       "\n",
       "[6 rows x 40 columns]"
      ]
     },
     "execution_count": 111,
     "metadata": {},
     "output_type": "execute_result"
    }
   ],
   "source": [
    "# sample of dataset \n",
    "df.sample(6)"
   ]
  },
  {
   "cell_type": "code",
   "execution_count": 112,
   "id": "coordinate-pointer",
   "metadata": {},
   "outputs": [
    {
     "name": "stderr",
     "output_type": "stream",
     "text": [
      "C:\\Users\\SSD_DK\\Anaconda3\\lib\\site-packages\\seaborn\\distributions.py:2557: FutureWarning: `distplot` is a deprecated function and will be removed in a future version. Please adapt your code to use either `displot` (a figure-level function with similar flexibility) or `histplot` (an axes-level function for histograms).\n",
      "  warnings.warn(msg, FutureWarning)\n"
     ]
    },
    {
     "data": {
      "text/plain": [
       "<AxesSubplot:xlabel='price', ylabel='Density'>"
      ]
     },
     "execution_count": 112,
     "metadata": {},
     "output_type": "execute_result"
    },
    {
     "data": {
      "image/png": "[encoded data removed]",
      "text/plain": [
       "<Figure size 432x288 with 1 Axes>"
      ]
     },
     "metadata": {
      "needs_background": "light"
     },
     "output_type": "display_data"
    }
   ],
   "source": [
    "# take a look at the label distribution\n",
    "sns.distplot(df.price)"
   ]
  },
  {
   "cell_type": "code",
   "execution_count": 114,
   "id": "careful-assets",
   "metadata": {},
   "outputs": [
    {
     "data": {
      "text/plain": [
       "((13719, 39), (13719,))"
      ]
     },
     "execution_count": 114,
     "metadata": {},
     "output_type": "execute_result"
    }
   ],
   "source": [
    "# split dataset to features and label\n",
    "y = df.price\n",
    "df = df.drop(['price'], axis=1)\n",
    "X = df\n",
    "X.shape, y.shape"
   ]
  },
  {
   "cell_type": "code",
   "execution_count": 115,
   "id": "ordinary-wallet",
   "metadata": {},
   "outputs": [
    {
     "data": {
      "text/plain": [
       "((10289, 39), (3430,))"
      ]
     },
     "execution_count": 115,
     "metadata": {},
     "output_type": "execute_result"
    }
   ],
   "source": [
    "# split features and label to train and validation parts\n",
    "X_train, X_test, y_train, y_test = train_test_split(X, y, stratify = y,test_size=0.25)\n",
    "X_train.shape, y_test.shape"
   ]
  },
  {
   "cell_type": "code",
   "execution_count": 116,
   "id": "prospective-thumb",
   "metadata": {},
   "outputs": [
    {
     "name": "stdout",
     "output_type": "stream",
     "text": [
      "[11:22:59] WARNING: C:/Jenkins/workspace/xgboost-win64_release_0.90/src/objective/regression_obj.cu:152: reg:linear is now deprecated in favor of reg:squarederror.\n"
     ]
    },
    {
     "data": {
      "text/plain": [
       "XGBRegressor(max_features=7, n_estimators=5, random_state=42)"
      ]
     },
     "execution_count": 116,
     "metadata": {},
     "output_type": "execute_result"
    }
   ],
   "source": [
    "# Train GBM model \n",
    "import xgboost\n",
    "model_xg = xgboost.XGBRegressor(n_estimators=5,\n",
    "                                 max_features=7, \n",
    "                                 learning_rate=.1,\n",
    "                                 random_state=42)\n",
    "model_xg.fit(X_train, y_train)\n",
    "\n"
   ]
  },
  {
   "attachments": {
    "%D0%B8%D0%B7%D0%BE%D0%B1%D1%80%D0%B0%D0%B6%D0%B5%D0%BD%D0%B8%D0%B5-2.png": {
     "image/png": "[encoded data removed]"
    },
    "%D0%B8%D0%B7%D0%BE%D0%B1%D1%80%D0%B0%D0%B6%D0%B5%D0%BD%D0%B8%D0%B5-3.png": {
     "image/png": "[encoded data removed]"
    },
    "%D0%B8%D0%B7%D0%BE%D0%B1%D1%80%D0%B0%D0%B6%D0%B5%D0%BD%D0%B8%D0%B5.png": {
     "image/png": "[encoded data removed]"
    }
   },
   "cell_type": "markdown",
   "id": "leading-postcard",
   "metadata": {},
   "source": [
    "Gradient tree boosting\n",
    "\n",
    "Gradient boosting is typically used with decision trees (especially CART trees) of a fixed size as base learners. For this special case, Friedman proposes a modification to gradient boosting method which improves the quality of fit of each base learner.\n",
    "\n",
    "Generic gradient boosting at the m-th step would fit a decision tree h m ( x ) {\\displaystyle h_{m}(x)} {\\displaystyle h_{m}(x)} to pseudo-residuals. Let J m {\\displaystyle J_{m}} {\\displaystyle J_{m}} be the number of its leaves. The tree partitions the input space into J m {\\displaystyle J_{m}} {\\displaystyle J_{m}} disjoint regions R 1 m , … , R J m m {\\displaystyle R_{1m},\\ldots ,R_{J_{m}m}} {\\displaystyle R_{1m},\\ldots ,R_{J_{m}m}} and predicts a constant value in each region. Using the indicator notation, the output of h m ( x ) {\\displaystyle h_{m}(x)} {\\displaystyle h_{m}(x)} for input x can be written as the sum:\n",
    "\n",
    "![%D0%B8%D0%B7%D0%BE%D0%B1%D1%80%D0%B0%D0%B6%D0%B5%D0%BD%D0%B8%D0%B5.png](attachment:%D0%B8%D0%B7%D0%BE%D0%B1%D1%80%D0%B0%D0%B6%D0%B5%D0%BD%D0%B8%D0%B5.png)\n",
    "\n",
    "where b j m {\\displaystyle b_{jm}} b_{jm} is the value predicted in the region R j m {\\displaystyle R_{jm}} R_{jm}.[11]\n",
    "\n",
    "Then the coefficients b j m {\\displaystyle b_{jm}} b_{jm} are multiplied by some value γ m {\\displaystyle \\gamma _{m}} \\gamma _{m}, chosen using line search so as to minimize the loss function, and the model is updated as follows:\n",
    "\n",
    "   ![%D0%B8%D0%B7%D0%BE%D0%B1%D1%80%D0%B0%D0%B6%D0%B5%D0%BD%D0%B8%D0%B5-2.png](attachment:%D0%B8%D0%B7%D0%BE%D0%B1%D1%80%D0%B0%D0%B6%D0%B5%D0%BD%D0%B8%D0%B5-2.png)\n",
    "\n",
    "Friedman proposes to modify this algorithm so that it chooses a separate optimal value γ j m {\\displaystyle \\gamma _{jm}} {\\displaystyle \\gamma _{jm}} for each of the tree's regions, instead of a single γ m {\\displaystyle \\gamma _{m}} \\gamma _{m} for the whole tree. He calls the modified algorithm \"TreeBoost\". The coefficients b j m {\\displaystyle b_{jm}} b_{jm} from the tree-fitting procedure can be then simply discarded and the model update rule becomes:\n",
    "\n",
    " ![%D0%B8%D0%B7%D0%BE%D0%B1%D1%80%D0%B0%D0%B6%D0%B5%D0%BD%D0%B8%D0%B5-3.png](attachment:%D0%B8%D0%B7%D0%BE%D0%B1%D1%80%D0%B0%D0%B6%D0%B5%D0%BD%D0%B8%D0%B5-3.png)\n",
    "\n",
    "Source: wikipedia"
   ]
  },
  {
   "cell_type": "code",
   "execution_count": 117,
   "id": "helpful-animation",
   "metadata": {},
   "outputs": [
    {
     "name": "stdout",
     "output_type": "stream",
     "text": [
      "MSE: 24715436896.99849\n"
     ]
    },
    {
     "data": {
      "text/plain": [
       "<matplotlib.collections.PathCollection at 0x1d172004b08>"
      ]
     },
     "execution_count": 117,
     "metadata": {},
     "output_type": "execute_result"
    },
    {
     "data": {
      "image/png": "[encoded data removed]",
      "text/plain": [
       "<Figure size 432x288 with 1 Axes>"
      ]
     },
     "metadata": {
      "needs_background": "light"
     },
     "output_type": "display_data"
    }
   ],
   "source": [
    "# use the model to predict label on validation data and compare result with ground true values.\n",
    "# calculate MSE and build scatter of predict and ground true values\n",
    "predict_xg = model_xg.predict(X_test)\n",
    "print ('MSE:',mean_squared_error(y_test, predict_xg))\n",
    "plt.scatter(y_test, predict_xg)"
   ]
  },
  {
   "cell_type": "code",
   "execution_count": 118,
   "id": "innovative-directive",
   "metadata": {},
   "outputs": [],
   "source": [
    "# Train linear model \n",
    "from sklearn.linear_model import ElasticNet\n",
    "linear_model = ElasticNet(alpha = 9e-4, l1_ratio=0.4).fit(X_train, y_train)"
   ]
  },
  {
   "attachments": {
    "%D0%B8%D0%B7%D0%BE%D0%B1%D1%80%D0%B0%D0%B6%D0%B5%D0%BD%D0%B8%D0%B5-2.png": {
     "image/png": "[encoded data removed]"
    },
    "%D0%B8%D0%B7%D0%BE%D0%B1%D1%80%D0%B0%D0%B6%D0%B5%D0%BD%D0%B8%D0%B5.png": {
     "image/png": "[encoded data removed]"
    }
   },
   "cell_type": "markdown",
   "id": "virgin-egypt",
   "metadata": {},
   "source": [
    "Specification\n",
    "\n",
    "The elastic net method overcomes the limitations of the LASSO (least absolute shrinkage and selection operator) method which uses a penalty function based on\n",
    "\n",
    "![%D0%B8%D0%B7%D0%BE%D0%B1%D1%80%D0%B0%D0%B6%D0%B5%D0%BD%D0%B8%D0%B5.png](attachment:%D0%B8%D0%B7%D0%BE%D0%B1%D1%80%D0%B0%D0%B6%D0%B5%D0%BD%D0%B8%D0%B5.png)\n",
    "\n",
    "Use of this penalty function has several limitations.[1] For example, in the \"large p, small n\" case (high-dimensional data with few examples), the LASSO selects at most n variables before it saturates. Also if there is a group of highly correlated variables, then the LASSO tends to select one variable from a group and ignore the others. To overcome these limitations, the elastic net adds a quadratic part to the penalty ( ‖ β ‖ 2 {\\displaystyle \\|\\beta \\|^{2}} \\|\\beta\\|^2), which when used alone is ridge regression (known also as Tikhonov regularization). The estimates from the elastic net method are defined by\n",
    "\n",
    "![%D0%B8%D0%B7%D0%BE%D0%B1%D1%80%D0%B0%D0%B6%D0%B5%D0%BD%D0%B8%D0%B5-2.png](attachment:%D0%B8%D0%B7%D0%BE%D0%B1%D1%80%D0%B0%D0%B6%D0%B5%D0%BD%D0%B8%D0%B5-2.png)\n",
    "\n",
    "The quadratic penalty term makes the loss function strongly convex, and it therefore has a unique minimum. The elastic net method includes the LASSO and ridge regression: in other words, each of them is a special case where λ 1 = λ , λ 2 = 0 {\\displaystyle \\lambda _{1}=\\lambda ,\\lambda _{2}=0} \\lambda_1 = \\lambda, \\lambda_2 = 0 or λ 1 = 0 , λ 2 = λ {\\displaystyle \\lambda _{1}=0,\\lambda _{2}=\\lambda } \\lambda_1 = 0, \\lambda_2 = \\lambda. Meanwhile, the naive version of elastic net method finds an estimator in a two-stage procedure : first for each fixed λ 2 {\\displaystyle \\lambda _{2}} \\lambda _{2} it finds the ridge regression coefficients, and then does a LASSO type shrinkage. This kind of estimation incurs a double amount of shrinkage, which leads to increased bias and poor predictions. To improve the prediction performance, the authors rescale the coefficients of the naive version of elastic net by multiplying the estimated coefficients by ( 1 + λ 2 ) {\\displaystyle (1+\\lambda _{2})} (1 + \\lambda_2).\n",
    "\n",
    "Source: wikipedia\n"
   ]
  },
  {
   "cell_type": "code",
   "execution_count": 119,
   "id": "possible-trunk",
   "metadata": {},
   "outputs": [
    {
     "name": "stdout",
     "output_type": "stream",
     "text": [
      "MSE: 4941205944.483121\n"
     ]
    },
    {
     "data": {
      "text/plain": [
       "<matplotlib.collections.PathCollection at 0x1d172065bc8>"
      ]
     },
     "execution_count": 119,
     "metadata": {},
     "output_type": "execute_result"
    },
    {
     "data": {
      "image/png": "[encoded data removed]",
      "text/plain": [
       "<Figure size 432x288 with 1 Axes>"
      ]
     },
     "metadata": {
      "needs_background": "light"
     },
     "output_type": "display_data"
    }
   ],
   "source": [
    "# use the model to predict label on validation data and compare result with ground true values.\n",
    "# calculate MSE and build scatter of predict and ground true values\n",
    "predict_linear = linear_model.predict(X_test)\n",
    "print ('MSE:',mean_squared_error(y_test, predict_linear))\n",
    "plt.scatter(y_test, predict_linear)"
   ]
  },
  {
   "cell_type": "code",
   "execution_count": 120,
   "id": "marked-trustee",
   "metadata": {},
   "outputs": [
    {
     "data": {
      "text/plain": [
       "RandomForestRegressor()"
      ]
     },
     "execution_count": 120,
     "metadata": {},
     "output_type": "execute_result"
    }
   ],
   "source": [
    "# Train Random Forest model \n",
    "from sklearn.ensemble import RandomForestRegressor\n",
    "rf_model = RandomForestRegressor()\n",
    "rf_model.fit(X_train, y_train)"
   ]
  },
  {
   "attachments": {
    "%D0%B8%D0%B7%D0%BE%D0%B1%D1%80%D0%B0%D0%B6%D0%B5%D0%BD%D0%B8%D0%B5-2.png": {
     "image/png": "[encoded data removed]"
    },
    "%D0%B8%D0%B7%D0%BE%D0%B1%D1%80%D0%B0%D0%B6%D0%B5%D0%BD%D0%B8%D0%B5-3.png": {
     "image/png": "[encoded data removed]"
    }
   },
   "cell_type": "markdown",
   "id": "selected-outline",
   "metadata": {},
   "source": [
    "Algorithm\n",
    "\n",
    "Preliminaries: decision tree learning\n",
    "\n",
    "Main article: Decision tree learning\n",
    "\n",
    "\n",
    "Decision trees are a popular method for various machine learning tasks. Tree learning \"come[s] closest to meeting the requirements for serving as an off-the-shelf procedure for data mining\", say Hastie et al., \"because it is invariant under scaling and various other transformations of feature values, is robust to inclusion of irrelevant features, and produces inspectable models. However, they are seldom accurate\".\n",
    "\n",
    "In particular, trees that are grown very deep tend to learn highly irregular patterns: they overfit their training sets, i.e. have low bias, but very high variance. Random forests are a way of averaging multiple deep decision trees, trained on different parts of the same training set, with the goal of reducing the variance. This comes at the expense of a small increase in the bias and some loss of interpretability, but generally greatly boosts the performance in the final model.\n",
    "\n",
    "Forests are like the pulling together of decision tree algorithm efforts. Taking the teamwork of many trees thus improving the performance of a single random tree. Though not quite similar, forests give the effects of a K-fold cross validation.\n",
    "Bagging\n",
    "Main article: Bootstrap aggregating\n",
    "\n",
    "The training algorithm for random forests applies the general technique of bootstrap aggregating, or bagging, to tree learners. Given a training set X = x1, ..., xn with responses Y = y1, ..., yn, bagging repeatedly (B times) selects a random sample with replacement of the training set and fits trees to these samples:\n",
    "\n",
    "    For b = 1, ..., B:\n",
    "\n",
    "        Sample, with replacement, n training examples from X, Y; call these Xb, Yb.\n",
    "        Train a classification or regression tree fb on Xb, Yb.\n",
    "\n",
    "After training, predictions for unseen samples x' can be made by averaging the predictions from all the individual regression trees on x':\n",
    "\n",
    "  ![%D0%B8%D0%B7%D0%BE%D0%B1%D1%80%D0%B0%D0%B6%D0%B5%D0%BD%D0%B8%D0%B5-2.png](attachment:%D0%B8%D0%B7%D0%BE%D0%B1%D1%80%D0%B0%D0%B6%D0%B5%D0%BD%D0%B8%D0%B5-2.png)\n",
    "    \n",
    "or by taking the majority vote in the case of classification trees.\n",
    "\n",
    "This bootstrapping procedure leads to better model performance because it decreases the variance of the model, without increasing the bias. This means that while the predictions of a single tree are highly sensitive to noise in its training set, the average of many trees is not, as long as the trees are not correlated. Simply training many trees on a single training set would give strongly correlated trees (or even the same tree many times, if the training algorithm is deterministic); bootstrap sampling is a way of de-correlating the trees by showing them different training sets.\n",
    "\n",
    "Additionally, an estimate of the uncertainty of the prediction can be made as the standard deviation of the predictions from all the individual regression trees on x':\n",
    "\n",
    "![%D0%B8%D0%B7%D0%BE%D0%B1%D1%80%D0%B0%D0%B6%D0%B5%D0%BD%D0%B8%D0%B5-3.png](attachment:%D0%B8%D0%B7%D0%BE%D0%B1%D1%80%D0%B0%D0%B6%D0%B5%D0%BD%D0%B8%D0%B5-3.png)\n",
    "\n",
    "The number of samples/trees, B, is a free parameter. Typically, a few hundred to several thousand trees are used, depending on the size and nature of the training set. An optimal number of trees B can be found using cross-validation, or by observing the out-of-bag error: the mean prediction error on each training sample xi, using only the trees that did not have xi in their bootstrap sample. The training and test error tend to level off after some number of trees have been fit. \n",
    "\n",
    "Source: wikipedia"
   ]
  },
  {
   "cell_type": "code",
   "execution_count": 121,
   "id": "novel-motion",
   "metadata": {},
   "outputs": [
    {
     "name": "stdout",
     "output_type": "stream",
     "text": [
      "MSE: 4953584390.733292\n"
     ]
    },
    {
     "data": {
      "text/plain": [
       "<matplotlib.collections.PathCollection at 0x1d171d1e708>"
      ]
     },
     "execution_count": 121,
     "metadata": {},
     "output_type": "execute_result"
    },
    {
     "data": {
      "image/png": "[encoded data removed]",
      "text/plain": [
       "<Figure size 432x288 with 1 Axes>"
      ]
     },
     "metadata": {
      "needs_background": "light"
     },
     "output_type": "display_data"
    }
   ],
   "source": [
    "# use the model to predict label on validation data and compare result with ground true values.\n",
    "# calculate MSE and build scatter of predict and ground true values\n",
    "predict_rf = rf_model.predict(X_test)\n",
    "print ('MSE:',mean_squared_error(y_test, predict_rf))\n",
    "plt.scatter(y_test, predict_rf)"
   ]
  },
  {
   "cell_type": "code",
   "execution_count": 122,
   "id": "welsh-store",
   "metadata": {},
   "outputs": [],
   "source": [
    "# select random data\n",
    "new_project = pd.read_csv('4_1house_R.csv').sample(1)"
   ]
  },
  {
   "cell_type": "code",
   "execution_count": 123,
   "id": "premier-stevens",
   "metadata": {},
   "outputs": [],
   "source": [
    "# split data to features and label\n",
    "new_project_gt = new_project['price']\n",
    "new_project = new_project.drop(['price'], axis=1)"
   ]
  },
  {
   "cell_type": "code",
   "execution_count": 124,
   "id": "reduced-adobe",
   "metadata": {},
   "outputs": [],
   "source": [
    "# predict result by models\n",
    "new_project_predict_xg = model_xg.predict(new_project)\n",
    "new_project_predict_l = linear_model.predict(new_project)\n",
    "new_project_predict_rf = rf_model.predict(new_project)"
   ]
  },
  {
   "cell_type": "code",
   "execution_count": 125,
   "id": "attractive-gabriel",
   "metadata": {},
   "outputs": [
    {
     "name": "stdout",
     "output_type": "stream",
     "text": [
      "Ground true value:  174824.12\n",
      "Predicted value (XG model):  98266.84\n",
      "Predicted value (Linear model):  249061.55\n",
      "Predicted value (Random forest model):  196694.09\n"
     ]
    }
   ],
   "source": [
    "# compare results with ground true value\n",
    "print(\"Ground true value:\", '% 6.2f' % np.mean(new_project_gt))\n",
    "print(\"Predicted value (XG model):\", '% 6.2f' %np.mean(new_project_predict_xg))\n",
    "print(\"Predicted value (Linear model):\", '% 6.2f' %np.mean(new_project_predict_l))\n",
    "print(\"Predicted value (Random forest model):\", '% 6.2f' %np.mean(new_project_predict_rf))"
   ]
  }
 ],
 "metadata": {
  "kernelspec": {
   "display_name": "Python 3",
   "language": "python",
   "name": "python3"
  },
  "language_info": {
   "codemirror_mode": {
    "name": "ipython",
    "version": 3
   },
   "file_extension": ".py",
   "mimetype": "text/x-python",
   "name": "python",
   "nbconvert_exporter": "python",
   "pygments_lexer": "ipython3",
   "version": "3.7.9"
  }
 },
 "nbformat": 4,
 "nbformat_minor": 5
}
